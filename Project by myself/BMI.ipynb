{
 "cells": [
  {
   "cell_type": "markdown",
   "metadata": {},
   "source": [
    "# BMI計算器"
   ]
  },
  {
   "cell_type": "code",
   "execution_count": null,
   "metadata": {},
   "outputs": [],
   "source": [
    "import tkinter as tk\n",
    "import math\n",
    "\n",
    "window = tk.Tk()\n",
    "window.title(\"Screen\")\n",
    "window.geometry(\"600x400\")\n",
    "window.configure(background = \"white\")\n",
    "\n",
    "def cal_bmi():\n",
    "    height = float(h_entry.get())\n",
    "    weight = float(w_entry.get())\n",
    "    bmi = round(weight / math.pow(height, 2), 2)\n",
    "    result = \"你的BMI為：{}，{}\".format(bmi, bmi_status_description(bmi))\n",
    "    result_label.configure(text = result)\n",
    "    \n",
    "def bmi_status_description(bmi):\n",
    "    if bmi < 18.5:\n",
    "        return (\"你太瘦囉！\")\n",
    "    elif 18.5 < bmi and bmi <= 24:\n",
    "        return (\"穠纖合度喔！\")\n",
    "    else:\n",
    "        return (\"該注意身材囉！\")\n",
    "\n",
    "def del_bmi():\n",
    "    h_entry.delete(0, \"end\")\n",
    "    w_entry.delete(0, \"end\")\n",
    "    result_label.configure(text = \" \")\n",
    "\n",
    "h_frame = tk.Frame(window)\n",
    "h_frame.pack(side = tk.TOP)\n",
    "h_label = tk.Label(h_frame, text = \"身高（m）：\", font = (\"Helvetica\", 12))\n",
    "h_label.pack(side = tk.LEFT)\n",
    "h_entry = tk.Entry(h_frame)\n",
    "h_entry.pack(side = tk.LEFT)\n",
    "\n",
    "w_frame = tk.Frame(window)\n",
    "w_frame.pack(side = tk.TOP)\n",
    "w_label = tk.Label(w_frame, text = \"體重（kg）：\", font = (\"Helvetica\", 12))\n",
    "w_label.pack(side = tk.LEFT)\n",
    "w_entry = tk.Entry(w_frame)\n",
    "w_entry.pack(side = tk.LEFT)\n",
    "\n",
    "result_label = tk.Label(window)\n",
    "result_label.pack()\n",
    "\n",
    "b_frame = tk.Frame(window)\n",
    "b_frame.pack(side = tk.TOP)\n",
    "\n",
    "b = tk.Button(b_frame, text = \"開始計算\", font = (\"Helvetica\", 12), width = 15, height = 2, command = cal_bmi)\n",
    "b.pack(side = tk.LEFT)\n",
    "\n",
    "del_b = tk.Button(b_frame, text = \"全部清除\", font = (\"Helvetica\", 12), width = 15, height = 2, command = del_bmi)\n",
    "del_b.pack(side = tk.RIGHT)\n",
    "\n",
    "\n",
    "window.mainloop()"
   ]
  },
  {
   "cell_type": "code",
   "execution_count": null,
   "metadata": {},
   "outputs": [],
   "source": []
  }
 ],
 "metadata": {
  "kernelspec": {
   "display_name": "Python 3",
   "language": "python",
   "name": "python3"
  },
  "language_info": {
   "codemirror_mode": {
    "name": "ipython",
    "version": 3
   },
   "file_extension": ".py",
   "mimetype": "text/x-python",
   "name": "python",
   "nbconvert_exporter": "python",
   "pygments_lexer": "ipython3",
   "version": "3.7.4"
  }
 },
 "nbformat": 4,
 "nbformat_minor": 2
}
