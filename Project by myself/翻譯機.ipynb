{
 "cells": [
  {
   "cell_type": "markdown",
   "metadata": {},
   "source": [
    "# 翻譯機"
   ]
  },
  {
   "cell_type": "code",
   "execution_count": 1,
   "metadata": {},
   "outputs": [
    {
     "data": {
      "application/vnd.jupyter.widget-view+json": {
       "model_id": "2652691f9c2b432fb84a135e20bc1642",
       "version_major": 2,
       "version_minor": 0
      },
      "text/plain": [
       "Textarea(value='', description='Message', placeholder='Type Something')"
      ]
     },
     "metadata": {},
     "output_type": "display_data"
    },
    {
     "data": {
      "application/vnd.jupyter.widget-view+json": {
       "model_id": "ee70c79d0520403d9f216d615991a944",
       "version_major": 2,
       "version_minor": 0
      },
      "text/plain": [
       "Dropdown(description='Translate To', options=('zh-Hant', 'ar', 'es', 'ja', 'de', 'ko'), value='zh-Hant')"
      ]
     },
     "metadata": {},
     "output_type": "display_data"
    },
    {
     "data": {
      "application/vnd.jupyter.widget-view+json": {
       "model_id": "53a8e2eaae784447a582faa5cd683c29",
       "version_major": 2,
       "version_minor": 0
      },
      "text/plain": [
       "Button(description='翻譯', style=ButtonStyle())"
      ]
     },
     "metadata": {},
     "output_type": "display_data"
    },
    {
     "data": {
      "application/vnd.jupyter.widget-view+json": {
       "model_id": "45656e6696a64acdac194952428801bb",
       "version_major": 2,
       "version_minor": 0
      },
      "text/plain": [
       "Output()"
      ]
     },
     "metadata": {},
     "output_type": "display_data"
    }
   ],
   "source": [
    "import requests\n",
    "import json\n",
    "import ipywidgets as widgets\n",
    "from IPython.display import display\n",
    "\n",
    "txt = widgets.Textarea(\n",
    "    value = \"\", \n",
    "    placeholder = \"Type Something\", \n",
    "    description = \"Message\", \n",
    "    disable = False\n",
    ")\n",
    "\n",
    "## Dropdown設定\n",
    "dropdown = widgets.Dropdown(\n",
    "    options = [\"zh-Hant\", \"ar\", \"es\", \"ja\", \"de\", \"ko\"], \n",
    "    value = \"zh-Hant\", \n",
    "    description = \"Translate To\", \n",
    "    disable = False\n",
    ")\n",
    "\n",
    "## Button設定\n",
    "button = widgets.Button(description = \"翻譯\")\n",
    "\n",
    "## 顯示於畫面\n",
    "out = widgets.Output()\n",
    "\n",
    "\n",
    "## 印出\"dropdown.value放入翻譯函式後得到的中文\"\n",
    "def on_button_clicked(b):\n",
    "    with out:\n",
    "        url = \"https://api-apc.cognitive.microsofttranslator.com/translate\"\n",
    "\n",
    "        querystring = {\"api-version\":\"3.0\",\"to\": dropdown.value} ## 網址裡有提供的可轉換的語言才有辦法翻譯\n",
    "\n",
    "        payload = \"[{ \\\"text\\\" : \\\"\"+\"{}\".format(txt.value)+\"\\\"}]\"  ## 要翻譯的文字填入這邊\n",
    "        headers = {\n",
    "        'content-type': \"application/json\",\n",
    "        'Ocp-Apim-Subscription-Key': 'ebd66f59fa6649b296e97c21ca5dfa4c', ## 鑰匙，使用權限的意思\n",
    "            }\n",
    "        response = requests.request(\"POST\", url, data=payload, headers=headers, params=querystring)\n",
    "        #print first 4000 characters of response\n",
    "        ans = json.loads(response.text)\n",
    "        print(ans[0][\"translations\"][0][\"text\"])\n",
    "\n",
    "## 顯示於畫面\n",
    "display(txt, dropdown, button, out)\n",
    "\n",
    "## 按button時，呼叫on_button_clicked函式\n",
    "button.on_click(on_button_clicked)"
   ]
  },
  {
   "cell_type": "code",
   "execution_count": null,
   "metadata": {},
   "outputs": [],
   "source": []
  }
 ],
 "metadata": {
  "kernelspec": {
   "display_name": "Python 3",
   "language": "python",
   "name": "python3"
  },
  "language_info": {
   "codemirror_mode": {
    "name": "ipython",
    "version": 3
   },
   "file_extension": ".py",
   "mimetype": "text/x-python",
   "name": "python",
   "nbconvert_exporter": "python",
   "pygments_lexer": "ipython3",
   "version": "3.7.4"
  }
 },
 "nbformat": 4,
 "nbformat_minor": 2
}
