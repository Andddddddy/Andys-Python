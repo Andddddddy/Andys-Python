{
 "cells": [
  {
   "cell_type": "markdown",
   "metadata": {},
   "source": [
    "# 股票消息面"
   ]
  },
  {
   "cell_type": "markdown",
   "metadata": {},
   "source": [
    "## Step 1：輸入需要的套件"
   ]
  },
  {
   "cell_type": "code",
   "execution_count": 1,
   "metadata": {},
   "outputs": [],
   "source": [
    "import requests\n",
    "from pyquery import PyQuery as pq\n",
    "from selenium import webdriver\n",
    "from time import sleep\n",
    "import tkinter as tk\n",
    "from tkinter import ttk"
   ]
  },
  {
   "cell_type": "markdown",
   "metadata": {},
   "source": [
    "## Step 2：建模"
   ]
  },
  {
   "cell_type": "code",
   "execution_count": 2,
   "metadata": {
    "scrolled": true
   },
   "outputs": [],
   "source": [
    "#Button函式\n",
    "def searchSource():\n",
    "    if (selectCombo.get()) == \"鉅亨網\":\n",
    "        #selenium設定\n",
    "        driver = webdriver.Chrome(\"/Users/shijunliao/Desktop/Python/大四下/程式設計概論/chromedriver\")\n",
    "        driver.get(\"https://news.cnyes.com/news/cat/headline?exp=a\")\n",
    "        html = driver.find_element_by_css_selector(\"*\").get_attribute(\"outerHTML\") \n",
    "        doc = pq(html)\n",
    "        \n",
    "        #頁面滾動\n",
    "        for i in range(4):\n",
    "            height = driver.find_element_by_css_selector(\"div._2bFl.theme-list\").size[\"height\"]\n",
    "            driver.execute_script(\"window.scrollTo(0, {})\".format(height))\n",
    "            if i%2 == 0:\n",
    "                driver.execute_script(\"window.scrollTo(0, -100)\")\n",
    "            sleep(0.5)\n",
    "        \n",
    "        #爬取資料\n",
    "        dataList = []\n",
    "        titleList = []\n",
    "        doc.make_links_absolute(base_url=driver.current_url)\n",
    "        for eachDoc in doc(\"._2bFl.theme-list > div > a\").items():\n",
    "            #print(eachDoc.attr(\"href\"))\n",
    "            mainRes = requests.get(eachDoc.attr(\"href\"))\n",
    "            mainDoc = pq(mainRes.text)\n",
    "            for eachItem in mainDoc.items():\n",
    "                titleList.append(eachItem(\"h1\").text())\n",
    "                #print(eachItem(\"h1\").text())\n",
    "                #print(eachItem(\"._1UuP\").text())\n",
    "                dataList.append({eachItem(\"h1\").text(): eachItem(\"._1UuP\").text()})\n",
    "        \n",
    "        #Button函式\n",
    "        def search():\n",
    "            result = dataList[titleList.index(news_combo.get())][news_combo.get()]\n",
    "            result_label.configure(text=result, justify=\"left\", wraplength=1000)\n",
    "        \n",
    "        frameNews = tk.Frame(window)\n",
    "        frameNews.pack(side=tk.TOP)\n",
    "\n",
    "        news_label = tk.Label(frameNews, text='新聞：')\n",
    "        news_label.pack(side=tk.LEFT)\n",
    "        news_combo = ttk.Combobox(frameNews, values=titleList)\n",
    "        news_combo.pack(side=tk.LEFT)\n",
    "\n",
    "        result_label = tk.Label(window)\n",
    "        result_label.pack()\n",
    "\n",
    "        search_btn = tk.Button(frameNews, text=' 查詢', command=search)\n",
    "        search_btn.pack()\n",
    "    \n",
    "    else:\n",
    "        res = requests.get(\"https://www.ptt.cc/bbs/Stock/index.html\")\n",
    "        mainDoc=pq(res.text)\n",
    "        mainDoc.make_links_absolute(base_url=res.url)\n",
    "\n",
    "        dataList = []\n",
    "        titleList = []\n",
    "        for each in mainDoc(\"#main-container > div.r-list-container.action-bar-margin.bbs-screen > div > div.title > a\").items():\n",
    "            titleList.append(each.text())\n",
    "            #print(each.text())\n",
    "            subRes = requests.get(each.attr(\"href\"))\n",
    "            subDoc = pq(subRes.text)\n",
    "            for eachContext in subDoc(\"#main-content\").items():\n",
    "                dataList.append({each.text(): eachContext.text()})    \n",
    "                #print(eachContext.text())\n",
    "                \n",
    "        #Button函式\n",
    "        def search():\n",
    "            result = dataList[titleList.index(news_combo.get())][news_combo.get()]\n",
    "            result_label.configure(text=result, justify=\"left\", wraplength=1000)\n",
    "        \n",
    "        frameNews = tk.Frame(window)\n",
    "        frameNews.pack(side=tk.TOP)\n",
    "\n",
    "        news_label = tk.Label(frameNews, text='新聞：')\n",
    "        news_label.pack(side=tk.LEFT)\n",
    "        news_combo = ttk.Combobox(frameNews, values=titleList)\n",
    "        news_combo.pack(side=tk.LEFT)\n",
    "\n",
    "        result_label = tk.Label(window)\n",
    "        result_label.pack()\n",
    "\n",
    "        search_btn = tk.Button(frameNews, text=' 查詢', command=search)\n",
    "        search_btn.pack()"
   ]
  },
  {
   "cell_type": "markdown",
   "metadata": {},
   "source": [
    "## Step 3：介面呈現"
   ]
  },
  {
   "cell_type": "code",
   "execution_count": 3,
   "metadata": {},
   "outputs": [],
   "source": [
    "#初始介面建模\n",
    "window = tk.Tk()\n",
    "window.title('Stock News')\n",
    "window.geometry('1200x600')\n",
    "window.configure(background='white')\n",
    "\n",
    "headerLabel = tk.Label(window, text='企業消息查詢')\n",
    "headerLabel.pack()\n",
    "\n",
    "frame = tk.Frame(window)\n",
    "frame.pack(side=tk.TOP)\n",
    "\n",
    "\n",
    "selectNews = tk.Label(frame, text='消息來源：')\n",
    "selectNews.pack(side=tk.LEFT)\n",
    "selectCombo = ttk.Combobox(frame, values=[\"鉅亨網\", \"Ptt Stock\"])\n",
    "selectCombo.pack(side=tk.LEFT)\n",
    "\n",
    "\n",
    "searchBtn = tk.Button(frame, text='搜尋', command=searchSource)\n",
    "searchBtn.pack(side=tk.LEFT)\n",
    "\n",
    "\n",
    "window.mainloop()"
   ]
  }
 ],
 "metadata": {
  "kernelspec": {
   "display_name": "Python 3",
   "language": "python",
   "name": "python3"
  },
  "language_info": {
   "codemirror_mode": {
    "name": "ipython",
    "version": 3
   },
   "file_extension": ".py",
   "mimetype": "text/x-python",
   "name": "python",
   "nbconvert_exporter": "python",
   "pygments_lexer": "ipython3",
   "version": "3.7.4"
  }
 },
 "nbformat": 4,
 "nbformat_minor": 2
}
